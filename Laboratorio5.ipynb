{
  "nbformat": 4,
  "nbformat_minor": 0,
  "metadata": {
    "colab": {
      "provenance": [],
      "authorship_tag": "ABX9TyOD5jkSPHJSTO1RnZTgdqad",
      "include_colab_link": true
    },
    "kernelspec": {
      "name": "python3",
      "display_name": "Python 3"
    },
    "language_info": {
      "name": "python"
    }
  },
  "cells": [
    {
      "cell_type": "markdown",
      "metadata": {
        "id": "view-in-github",
        "colab_type": "text"
      },
      "source": [
        "<a href=\"https://colab.research.google.com/github/Kharolays/Laboratorio5/blob/main/Laboratorio5.ipynb\" target=\"_parent\"><img src=\"https://colab.research.google.com/assets/colab-badge.svg\" alt=\"Open In Colab\"/></a>"
      ]
    },
    {
      "cell_type": "markdown",
      "source": [
        "PASO 1"
      ],
      "metadata": {
        "id": "8P13sKnE74gD"
      }
    },
    {
      "cell_type": "code",
      "execution_count": 3,
      "metadata": {
        "colab": {
          "base_uri": "https://localhost:8080/"
        },
        "id": "yeZteT8S6Vcz",
        "outputId": "563a842c-cbf8-4e00-b053-50671169354c"
      },
      "outputs": [
        {
          "output_type": "stream",
          "name": "stdout",
          "text": [
            "Hola Mundo\n",
            "(7.5, 2.5, 12.5, 2.0)\n",
            "Ingrese su nombre: Kharolays Zapata\n",
            "Kharolays Zapata Hola Mundo\n"
          ]
        }
      ],
      "source": [
        "#Escribir un programa que imprima un mensaje en la consola.\n",
        "#- Declarar variables de diferentes tipos (int, float, str) y realizar operaciones matemáticas simples.\n",
        "#- Concatenar cadenas de texto y utilizar funciones básicas como print() y input().\n",
        "print(\"Hola Mundo\")\n",
        "a = 5\n",
        "b = 2.5\n",
        "def operaciones(a,b):\n",
        "    suma = a + b\n",
        "    resta = a - b\n",
        "    mult = a * b\n",
        "    div = a / b\n",
        "    return suma, resta, mult, div\n",
        "print(operaciones(a,b))\n",
        "c = \"Hola\"\n",
        "d = \"Mundo\"\n",
        "e = input(\"Ingrese su nombre: \")\n",
        "print(e + \" \" + c + \" \" + d)\n"
      ]
    },
    {
      "cell_type": "markdown",
      "source": [
        "PASO 2"
      ],
      "metadata": {
        "id": "pL6QTO3N7x7D"
      }
    },
    {
      "cell_type": "code",
      "source": [
        "# - Crear un script que pida al usuario un número y determine si es par o impar utilizando condicionales (if, else).\n",
        "#- Implementar un bucle for para iterar sobre una lista de números e imprimir sus cuadrados.\n",
        "#- Usar un bucle while para solicitar repetidamente la entrada del usuario hasta que se cumpla una condición específica.\n",
        "number = int(input(\"Ingrese un número: \"))\n",
        "if number % 2 == 0:\n",
        "    print(\"El número es par\")\n",
        "else:\n",
        "    print(\"El número es impar\")\n",
        "lista = [1,2,3,4,5]\n",
        "for i in lista:\n",
        "    print(i**2)\n",
        "while True:\n",
        "    name = input(\"Ingrese su nombre: \")\n",
        "    if name == \"exit\":\n",
        "        break\n",
        "    print(\"Hola\", name)\n",
        ""
      ],
      "metadata": {
        "colab": {
          "base_uri": "https://localhost:8080/"
        },
        "id": "Zcj-L2--71Q4",
        "outputId": "cd7275ae-805a-44e1-c3c8-8d96c35122bd"
      },
      "execution_count": 5,
      "outputs": [
        {
          "name": "stdout",
          "output_type": "stream",
          "text": [
            "Ingrese un número: 12\n",
            "El número es par\n",
            "1\n",
            "4\n",
            "9\n",
            "16\n",
            "25\n",
            "Ingrese su nombre: Kharolays Zapata\n",
            "Hola Kharolays Zapata\n",
            "Ingrese su nombre: Exit\n",
            "Hola Exit\n",
            "Ingrese su nombre: exit\n"
          ]
        }
      ]
    },
    {
      "cell_type": "markdown",
      "source": [
        "PASO 3"
      ],
      "metadata": {
        "id": "lSGmbCy69oTJ"
      }
    },
    {
      "cell_type": "code",
      "source": [
        "#- Crear una lista de elementos, como nombres de estudiantes, y mostrar cada uno utilizando un bucle.\n",
        "#- Crear un diccionario simple que almacene información de contacto (nombre, correo) y mostrar sus claves y valores.\n",
        "#- Implementar un script que permita al usuario agregar elementos a una lista o actualizar valores en un diccionario.\n",
        "students = [\"Juan\", \"Pedro\", \"Luis\", \"Maria\"]\n",
        "for i in students:\n",
        "    print(i)\n",
        "contact = {\n",
        "    \"nombre\": [\"Juan\", \"Pedro\", \"Luis\", \"Maria\"],\n",
        "    \"correo\": [\"juan@example.com\", \"pedro@example.com\", \"luis@example.com\", \"maria@example.com\"]\n",
        "}\n",
        "for key, value in contact.items():\n",
        "    print(f\"{key}: {value}\")\n",
        "students.append(\"Ana\")\n",
        "contact[\"nombre\"].append(\"Ana\")\n",
        "# Actualizar un valor en el diccionario\n",
        "contact = {\n",
        "    \"nombre\": [\"Juan\", \"Pedro\", \"Luis\", \"Maria\"],\n",
        "    \"correo\": [\"juan@example.com\", \"pedro@example.com\", \"luis@example.com\", \"maria@example.com\"]\n",
        "}\n",
        "# Cambiar el correo de \"Luis\"\n",
        "index = contact[\"nombre\"].index(\"Luis\")  # Obtener el índice de \"Luis\"\n",
        "contact[\"correo\"][index] = \"luis_nuevo@example.com\"  # Actualizar el correo\n",
        "# Mostrar el diccionario actualizado\n",
        "for key, value in contact.items():\n",
        "    print(f\"{key}: {value}\")\n",
        ""
      ],
      "metadata": {
        "colab": {
          "base_uri": "https://localhost:8080/"
        },
        "id": "YUFlgQsn9q4K",
        "outputId": "86e59ca6-6a76-4161-89a4-a63b154339f2"
      },
      "execution_count": 6,
      "outputs": [
        {
          "output_type": "stream",
          "name": "stdout",
          "text": [
            "Juan\n",
            "Pedro\n",
            "Luis\n",
            "Maria\n",
            "nombre: ['Juan', 'Pedro', 'Luis', 'Maria']\n",
            "correo: ['juan@example.com', 'pedro@example.com', 'luis@example.com', 'maria@example.com']\n",
            "nombre: ['Juan', 'Pedro', 'Luis', 'Maria']\n",
            "correo: ['juan@example.com', 'pedro@example.com', 'luis_nuevo@example.com', 'maria@example.com']\n"
          ]
        }
      ]
    },
    {
      "cell_type": "markdown",
      "source": [
        "PASO 4"
      ],
      "metadata": {
        "id": "tuPutKBd-cUS"
      }
    },
    {
      "cell_type": "code",
      "source": [
        "#- Desarrollar un programa que simule una calculadora básica, permitiendo al usuario realizar sumas, restas, multiplicaciones y divisiones.\n",
        "def calculadora():\n",
        "    while True:\n",
        "        print(\"\\nCalculadora Básica\")\n",
        "        print(\"1. Suma\")\n",
        "        print(\"2. Resta\")\n",
        "        print(\"3. Multiplicación\")\n",
        "        print(\"4. División\")\n",
        "        print(\"5. Salir\")\n",
        "\n",
        "        opcion = input(\"Seleccione una operación (1-5): \")\n",
        "\n",
        "        if opcion == \"5\":\n",
        "            print(\"Saliendo de la calculadora...\")\n",
        "            break\n",
        "\n",
        "        if opcion in [\"1\", \"2\", \"3\", \"4\"]:\n",
        "            try:\n",
        "                num1 = float(input(\"Ingrese el primer número: \"))\n",
        "                num2 = float(input(\"Ingrese el segundo número: \"))\n",
        "\n",
        "                if opcion == \"1\":\n",
        "                    print(f\"Resultado: {num1} + {num2} = {num1 + num2}\")\n",
        "                elif opcion == \"2\":\n",
        "                    print(f\"Resultado: {num1} - {num2} = {num1 - num2}\")\n",
        "                elif opcion == \"3\":\n",
        "                    print(f\"Resultado: {num1} * {num2} = {num1 * num2}\")\n",
        "                elif opcion == \"4\":\n",
        "                    if num2 != 0:\n",
        "                        print(f\"Resultado: {num1} / {num2} = {num1 / num2}\")\n",
        "                    else:\n",
        "                        print(\"Error: No se puede dividir entre cero.\")\n",
        "            except ValueError:\n",
        "                print(\"Error: Por favor, ingrese números válidos.\")\n",
        "        else:\n",
        "            print(\"Opción no válida. Intente de nuevo.\")\n",
        "\n",
        "# Ejecutar la calculadora\n",
        "calculadora()\n",
        "\n",
        "#- Crear un juego de adivinanza donde el programa genere un número aleatorio y el usuario deba adivinarlo, recibiendo pistas de \"mayor\" o \"menor\" en cada intento.\n",
        "\n",
        "import random\n",
        "\n",
        "def juego_adivinanza():\n",
        "    print(\"¡Bienvenido al juego de adivinanza!\")\n",
        "    numero_secreto = random.randint(1, 100)  # Generar un número aleatorio entre 1 y 100\n",
        "    intentos = 0\n",
        "\n",
        "    while True:\n",
        "        try:\n",
        "            adivinanza = int(input(\"Adivina el número (entre 1 y 100): \"))\n",
        "            intentos += 1\n",
        "\n",
        "            if adivinanza < numero_secreto:\n",
        "                print(\"El número secreto es mayor.\")\n",
        "            elif adivinanza > numero_secreto:\n",
        "                print(\"El número secreto es menor.\")\n",
        "            else:\n",
        "                print(f\"¡Felicidades! Adivinaste el número en {intentos} intentos.\")\n",
        "                break\n",
        "        except ValueError:\n",
        "            print(\"Por favor, ingresa un número válido.\")\n",
        "\n",
        "# Ejecutar el juego de adivinanza\n",
        "juego_adivinanza()"
      ],
      "metadata": {
        "colab": {
          "base_uri": "https://localhost:8080/"
        },
        "id": "V-4yPdbJ-uAN",
        "outputId": "b2635700-d691-4827-a06a-9c2687e1259f"
      },
      "execution_count": 7,
      "outputs": [
        {
          "output_type": "stream",
          "name": "stdout",
          "text": [
            "\n",
            "Calculadora Básica\n",
            "1. Suma\n",
            "2. Resta\n",
            "3. Multiplicación\n",
            "4. División\n",
            "5. Salir\n",
            "Seleccione una operación (1-5): 5\n",
            "Saliendo de la calculadora...\n",
            "¡Bienvenido al juego de adivinanza!\n",
            "Adivina el número (entre 1 y 100): 82\n",
            "El número secreto es menor.\n",
            "Adivina el número (entre 1 y 100): 45\n",
            "El número secreto es mayor.\n",
            "Adivina el número (entre 1 y 100): 63\n",
            "El número secreto es menor.\n",
            "Adivina el número (entre 1 y 100): 54\n",
            "El número secreto es mayor.\n",
            "Adivina el número (entre 1 y 100): 60\n",
            "El número secreto es menor.\n",
            "Adivina el número (entre 1 y 100): 55\n",
            "El número secreto es mayor.\n",
            "Adivina el número (entre 1 y 100): 56\n",
            "El número secreto es mayor.\n",
            "Adivina el número (entre 1 y 100): 57\n",
            "El número secreto es mayor.\n",
            "Adivina el número (entre 1 y 100): 58\n",
            "El número secreto es mayor.\n",
            "Adivina el número (entre 1 y 100): 59\n",
            "¡Felicidades! Adivinaste el número en 10 intentos.\n"
          ]
        }
      ]
    }
  ]
}